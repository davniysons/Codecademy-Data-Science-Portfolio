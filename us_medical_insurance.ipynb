{
 "cells": [
  {
   "attachments": {},
   "cell_type": "markdown",
   "metadata": {},
   "source": [
    "# US Medical Insurance cost #\n",
    "    - analyze dataset on \n",
    "## Goals: ##\n",
    "    - Find out the average age of the patients in the dataset.\n",
    "    - Analyze where a majority of the individuals are from.\n",
    "    - Look at the different costs between smokers vs. non-smokers.\n",
    "    - Figure out what the average age is for someone who has at least one child in this dataset.\n",
    "    - How does BMI (body mass index) differ between smokers and non-smokers in the dataset?\n",
    "    - What is the average insurance charge for males versus females in the dataset?"
   ]
  },
  {
   "cell_type": "code",
   "execution_count": 81,
   "metadata": {},
   "outputs": [],
   "source": [
    "# Import necessary libraries\n",
    "import pandas as pd"
   ]
  },
  {
   "cell_type": "code",
   "execution_count": 82,
   "metadata": {},
   "outputs": [],
   "source": [
    "# Load the dataset from a CSV file\n",
    "data = pd.read_csv('/CodeAcademy/Portfolio/Codecademy-Data-Science-Portfolio/data_files/insurance.csv')"
   ]
  },
  {
   "cell_type": "code",
   "execution_count": 83,
   "metadata": {},
   "outputs": [
    {
     "name": "stdout",
     "output_type": "stream",
     "text": [
      "      age     sex     bmi  children smoker     region      charges\n",
      "0      19  female  27.900         0    yes  southwest  16884.92400\n",
      "1      18    male  33.770         1     no  southeast   1725.55230\n",
      "2      28    male  33.000         3     no  southeast   4449.46200\n",
      "3      33    male  22.705         0     no  northwest  21984.47061\n",
      "4      32    male  28.880         0     no  northwest   3866.85520\n",
      "...   ...     ...     ...       ...    ...        ...          ...\n",
      "1333   50    male  30.970         3     no  northwest  10600.54830\n",
      "1334   18  female  31.920         0     no  northeast   2205.98080\n",
      "1335   18  female  36.850         0     no  southeast   1629.83350\n",
      "1336   21  female  25.800         0     no  southwest   2007.94500\n",
      "1337   61  female  29.070         0    yes  northwest  29141.36030\n",
      "\n",
      "[1338 rows x 7 columns]\n"
     ]
    }
   ],
   "source": [
    "# Print the loaded dataset to verify it was loaded successfully\n",
    "print(data)"
   ]
  },
  {
   "cell_type": "code",
   "execution_count": 84,
   "metadata": {},
   "outputs": [
    {
     "name": "stdout",
     "output_type": "stream",
     "text": [
      "<class 'pandas.core.frame.DataFrame'>\n",
      "RangeIndex: 1338 entries, 0 to 1337\n",
      "Data columns (total 7 columns):\n",
      " #   Column    Non-Null Count  Dtype  \n",
      "---  ------    --------------  -----  \n",
      " 0   age       1338 non-null   int64  \n",
      " 1   sex       1338 non-null   object \n",
      " 2   bmi       1338 non-null   float64\n",
      " 3   children  1338 non-null   int64  \n",
      " 4   smoker    1338 non-null   object \n",
      " 5   region    1338 non-null   object \n",
      " 6   charges   1338 non-null   float64\n",
      "dtypes: float64(2), int64(2), object(3)\n",
      "memory usage: 73.3+ KB\n",
      "None\n"
     ]
    }
   ],
   "source": [
    "# Print dataset info to see the column data types and check for null values\n",
    "print(data.info())"
   ]
  },
  {
   "cell_type": "code",
   "execution_count": 85,
   "metadata": {},
   "outputs": [
    {
     "name": "stdout",
     "output_type": "stream",
     "text": [
      "               age          bmi     children       charges\n",
      "count  1338.000000  1338.000000  1338.000000   1338.000000\n",
      "mean     39.207025    30.663397     1.094918  13270.422265\n",
      "std      14.049960     6.098187     1.205493  12110.011237\n",
      "min      18.000000    15.960000     0.000000   1121.873900\n",
      "25%      27.000000    26.296250     0.000000   4740.287150\n",
      "50%      39.000000    30.400000     1.000000   9382.033000\n",
      "75%      51.000000    34.693750     2.000000  16639.912515\n",
      "max      64.000000    53.130000     5.000000  63770.428010\n"
     ]
    }
   ],
   "source": [
    "# Get basic statistical summary of the dataset\n",
    "print(data.describe())"
   ]
  },
  {
   "attachments": {},
   "cell_type": "markdown",
   "metadata": {},
   "source": [
    "### Find out the average age of the patients in the dataset. ###"
   ]
  },
  {
   "cell_type": "code",
   "execution_count": 86,
   "metadata": {},
   "outputs": [
    {
     "name": "stdout",
     "output_type": "stream",
     "text": [
      "The average age of patients in the dataset is 39.0 years.\n"
     ]
    }
   ],
   "source": [
    "# calculate the mean age\n",
    "mean_age = data.age.mean()\n",
    "\n",
    "# print the result\n",
    "print(f'The average age of patients in the dataset is {mean_age.round()} years.')"
   ]
  },
  {
   "attachments": {},
   "cell_type": "markdown",
   "metadata": {},
   "source": [
    "### Analyze where a majority of the individuals are from."
   ]
  },
  {
   "cell_type": "code",
   "execution_count": 87,
   "metadata": {},
   "outputs": [
    {
     "name": "stdout",
     "output_type": "stream",
     "text": [
      "The majority of individuals in the dataset are from the southeast region with 364 people.\n"
     ]
    }
   ],
   "source": [
    "# count the number of individuals from each region\n",
    "region_counts = data.region.value_counts()\n",
    "\n",
    "# print the result\n",
    "print(f\"The majority of individuals in the dataset are from the {region_counts.idxmax()} region with {region_counts.max()} people.\")"
   ]
  },
  {
   "attachments": {},
   "cell_type": "markdown",
   "metadata": {},
   "source": [
    "The most region from people - is the `Southeast` with `364` people"
   ]
  },
  {
   "attachments": {},
   "cell_type": "markdown",
   "metadata": {},
   "source": [
    "### Look at the different costs between smokers vs. non-smokers."
   ]
  },
  {
   "cell_type": "code",
   "execution_count": 88,
   "metadata": {},
   "outputs": [
    {
     "name": "stdout",
     "output_type": "stream",
     "text": [
      "The average insurance cost for smokers is 32050.0, which is more than 3 times higher than the average insurance cost for non-smokers, which is 8434.0.\n"
     ]
    }
   ],
   "source": [
    "# calculate the average insurance cost for smokers and non-smokers\n",
    "smoker_avg_cost = data.loc[data['smoker'] == 'yes', 'charges'].mean()\n",
    "non_smoker_avg_cost = data.loc[data['smoker'] == 'no', 'charges'].mean()\n",
    "\n",
    "# print the result\n",
    "print(f\"The average insurance cost for smokers is {smoker_avg_cost.round()}, which is more than {int(smoker_avg_cost // non_smoker_avg_cost)} times higher than the average insurance cost for non-smokers, which is {non_smoker_avg_cost.round()}.\")\n"
   ]
  },
  {
   "attachments": {},
   "cell_type": "markdown",
   "metadata": {},
   "source": [
    "### Figure out what the average age is for someone who has at least one child in this dataset."
   ]
  },
  {
   "cell_type": "code",
   "execution_count": 89,
   "metadata": {},
   "outputs": [
    {
     "name": "stdout",
     "output_type": "stream",
     "text": [
      "The average age of individuals who have at least one child is 39.8 years old, compared to 38.4 years old for those with no children.\n"
     ]
    }
   ],
   "source": [
    "# calculate the average age for individuals with at least one child and those with no children\n",
    "avg_age_with_child = data.loc[data['children'] > 0, 'age'].mean()\n",
    "avg_age_without_child = data.loc[data['children'] == 0, 'age'].mean()\n",
    "\n",
    "# print the result\n",
    "print(f\"The average age of individuals who have at least one child is {avg_age_with_child.round(1)} years old, compared to {avg_age_without_child.round(1)} years old for those with no children.\")\n"
   ]
  },
  {
   "attachments": {},
   "cell_type": "markdown",
   "metadata": {},
   "source": [
    "### How does BMI (body mass index) differ between smokers and non-smokers in the dataset?"
   ]
  },
  {
   "cell_type": "code",
   "execution_count": 90,
   "metadata": {},
   "outputs": [
    {
     "name": "stdout",
     "output_type": "stream",
     "text": [
      "The average BMI for smokers is 30.70844890510949, compared to 30.651795112781954 for non-smokers. There is no significant difference.\n"
     ]
    }
   ],
   "source": [
    "# calculate the average BMI for smokers and non-smokers\n",
    "smoker_avg_bmi = data.loc[data['smoker'] == 'yes', 'bmi'].mean()\n",
    "non_smoker_avg_bmi = data.loc[data['smoker'] == 'no', 'bmi'].mean()\n",
    "\n",
    "# print the result\n",
    "print(f\"The average BMI for smokers is {smoker_avg_bmi}, compared to {non_smoker_avg_bmi} for non-smokers. There is no significant difference.\")\n"
   ]
  },
  {
   "attachments": {},
   "cell_type": "markdown",
   "metadata": {},
   "source": [
    "### What is the average insurance charge for males versus females in the dataset?"
   ]
  },
  {
   "cell_type": "code",
   "execution_count": 91,
   "metadata": {},
   "outputs": [
    {
     "name": "stdout",
     "output_type": "stream",
     "text": [
      "Average insurance charge for males: 13956.75\n",
      "Average insurance charge for females: 12569.58\n"
     ]
    }
   ],
   "source": [
    "# Calculate the average insurance charge for males and females separately\n",
    "male_avg_cost = data.loc[data['sex'] == 'male', 'charges'].mean()\n",
    "female_avg_cost = data.loc[data['sex'] == 'female', 'charges'].mean()\n",
    "\n",
    "# Print the results with a formatted string\n",
    "print(f\"Average insurance charge for males: {male_avg_cost:.2f}\")\n",
    "print(f\"Average insurance charge for females: {female_avg_cost:.2f}\")"
   ]
  },
  {
   "attachments": {},
   "cell_type": "markdown",
   "metadata": {},
   "source": [
    "## Conclusion:\n",
    "\n",
    "Based on the analysis of the dataset, the following conclusions can be drawn:\n",
    "\n",
    "    - The average age of patients in the dataset is approximately 39 years.\n",
    "    - The majority of individuals in the dataset are from the Southeast region.\n",
    "    - The average insurance cost for smokers is significantly higher than that for non-smokers.\n",
    "    - The average age of individuals who have at least one child is slightly higher than that of those without children.\n",
    "    - There is no significant difference in BMI between smokers and non-smokers.\n",
    "    - The average insurance charge for males and females is approximately the same.\n",
    "Overall, these insights provide a basic understanding of the patient demographics and cost distribution in the dataset, which can be further explored and utilized for various purposes such as identifying potential risk factors and developing insurance pricing strategies."
   ]
  },
  {
   "cell_type": "markdown",
   "metadata": {},
   "source": []
  }
 ],
 "metadata": {
  "kernelspec": {
   "display_name": "Python 3",
   "language": "python",
   "name": "python3"
  },
  "language_info": {
   "codemirror_mode": {
    "name": "ipython",
    "version": 3
   },
   "file_extension": ".py",
   "mimetype": "text/x-python",
   "name": "python",
   "nbconvert_exporter": "python",
   "pygments_lexer": "ipython3",
   "version": "3.10.9"
  },
  "orig_nbformat": 4
 },
 "nbformat": 4,
 "nbformat_minor": 2
}
